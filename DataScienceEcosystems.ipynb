{
 "cells": [
  {
   "cell_type": "markdown",
   "id": "60196cfc",
   "metadata": {},
   "source": [
    "# Data Science Tool and Ecosystems"
   ]
  },
  {
   "cell_type": "markdown",
   "id": "381897c8",
   "metadata": {},
   "source": [
    "In this Notebook, Data Science Tools and Ecosystems are summarized."
   ]
  },
  {
   "cell_type": "markdown",
   "id": "fadf58a7",
   "metadata": {},
   "source": [
    "Objectives:\n",
    "* List of popular language for Data Science\n",
    "* List of commonly used libraries for Data Science\n",
    "* List of tools commonly used in Data Science\n",
    "* Examples of arithmetic expressions using Python"
   ]
  },
  {
   "cell_type": "markdown",
   "id": "d1e1ca86",
   "metadata": {},
   "source": [
    "Some of the popular languages that Data Scientists use are:\n",
    "1. Python\n",
    "2. R\n",
    "3. Java\n",
    "4. SQL\n",
    "5. Julia\n",
    "6. Scala"
   ]
  },
  {
   "cell_type": "markdown",
   "id": "4f7fb61d",
   "metadata": {},
   "source": [
    "Some of the commonly used libraries used by Data Scientists include:\n",
    "1. numpy\n",
    "2. pandas\n",
    "3. keras\n",
    "4. matplotlib.pyplot\n",
    "5. seaborn\n",
    "6. pytorch"
   ]
  },
  {
   "cell_type": "markdown",
   "id": "916e2388",
   "metadata": {},
   "source": [
    "| Data Science Tools |\n",
    "|--------------------|\n",
    "| Apache Spark       |\n",
    "| Jupyter Notebook   |\n",
    "| Tensor Flow        |"
   ]
  },
  {
   "cell_type": "markdown",
   "id": "23e59249",
   "metadata": {},
   "source": [
    "### Below are a few examples of evaluating arithmetic expressions in python"
   ]
  },
  {
   "cell_type": "code",
   "execution_count": 11,
   "id": "8018a922",
   "metadata": {},
   "outputs": [
    {
     "name": "stdout",
     "output_type": "stream",
     "text": [
      "Answer = 17\n"
     ]
    }
   ],
   "source": [
    "#This is a simple arithmetic expression to multiply then add integers\n",
    "y = (3*4)+5\n",
    "\n",
    "print('Answer =',y)"
   ]
  },
  {
   "cell_type": "code",
   "execution_count": 12,
   "id": "68c01177",
   "metadata": {},
   "outputs": [
    {
     "name": "stdout",
     "output_type": "stream",
     "text": [
      "200 mins is equal to 3.3333333333333335 hrs\n"
     ]
    }
   ],
   "source": [
    "#This will convert 200 minutes to hours\n",
    "z = 200\n",
    "x = z/60\n",
    "print(z,'mins is equal to', x,'hrs')"
   ]
  },
  {
   "cell_type": "markdown",
   "id": "7fee2dc2",
   "metadata": {},
   "source": [
    "## Author\n",
    "\n",
    "David Eric Burgess"
   ]
  }
 ],
 "metadata": {
  "kernelspec": {
   "display_name": "Python 3 (ipykernel)",
   "language": "python",
   "name": "python3"
  },
  "language_info": {
   "codemirror_mode": {
    "name": "ipython",
    "version": 3
   },
   "file_extension": ".py",
   "mimetype": "text/x-python",
   "name": "python",
   "nbconvert_exporter": "python",
   "pygments_lexer": "ipython3",
   "version": "3.11.4"
  }
 },
 "nbformat": 4,
 "nbformat_minor": 5
}
